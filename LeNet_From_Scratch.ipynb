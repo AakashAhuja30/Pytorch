{
  "nbformat": 4,
  "nbformat_minor": 0,
  "metadata": {
    "colab": {
      "name": "LeNet_From_Scratch.ipynb",
      "provenance": [],
      "collapsed_sections": [],
      "authorship_tag": "ABX9TyNf1m4vnynDVufijyWfI1Ox",
      "include_colab_link": true
    },
    "kernelspec": {
      "name": "python3",
      "display_name": "Python 3"
    }
  },
  "cells": [
    {
      "cell_type": "markdown",
      "metadata": {
        "id": "view-in-github",
        "colab_type": "text"
      },
      "source": [
        "<a href=\"https://colab.research.google.com/github/AakashAhuja30/Pytorch/blob/main/LeNet_From_Scratch.ipynb\" target=\"_parent\"><img src=\"https://colab.research.google.com/assets/colab-badge.svg\" alt=\"Open In Colab\"/></a>"
      ]
    },
    {
      "cell_type": "code",
      "metadata": {
        "id": "OKaZobh67Yhp"
      },
      "source": [
        "import torch\n",
        "import torch.nn as nn"
      ],
      "execution_count": 2,
      "outputs": []
    },
    {
      "cell_type": "markdown",
      "metadata": {
        "id": "qtqftHIm9_AH"
      },
      "source": [
        "# LeNet Architecture"
      ]
    },
    {
      "cell_type": "markdown",
      "metadata": {
        "id": "n1dRpQhJ949C"
      },
      "source": [
        "![leNet.png](data:image/png;base64,iVBORw0KGgoAAAANSUhEUgAAAasAAAB2CAMAAABBGEwaAAABXFBMVEX///+AgIDDw8N8fHzGxsa/v78AAACDg4N4eHi2tra+vr65ubnx8fHU1NT7+/vIyMisrKyRkZHn5+eLi4udnZ2Xl5dISEhzc3OwsLCHh4fu7u7c3NxtbW2jo6NxY2TS0tJjY2NLS0tDQ0OPgYJfX19XV1fh4eExMTE6OjolJSX///r4+/4cHBwWFhb18Ore4+gsLCyGlaWQgHfq8Pm3qp7t4taSnqqosLhFTFbEvLD+9emwo5XM1uDb0cWjmpF4b2aIeWlsdoK8w8xQQUJmWF5/iptWWWdcVU+yusSQlZ5+goqSjIVBUmYbMkeIeHBSYnNpYFMpNkJndYRsaXBmWkzg188+LS00HyBwXFU+OkNUX2ZhW1d3eIObjX7S3Omkrb17aFdiTj8+PkwAABw7LyQjEhxebHZRUUstPkgtIhkaAAATJDRSS0JPPCxbTFNFV2QcEgAAFyg1R1wZGCjT5WCaAAAdoklEQVR4nO2diXvaSJrGC8R96ACBQEcjWMAYJSI2l7E5HLptYzuTwwkzEydO0jO97plJentn9/9/nv1KXDox2MJxtvN2m9gqCUn1U1V9b1VJQui7vuu7vuu7vuu7Ni3yax/AH1zVEyKv9OU2/n3QtV2lN0R9eYR6TOa8i6pnaFxsacvPkCq/v78j/a6DIWrmTlFJbSH1cQ0W9D1Zrq2GCDLIjVTiDKHxyWj/acJXPe2wrSQ6f4ZO0CHV7nX7f0K79c7wa5/AH0iHdfz5/AWKISTiX18Ci9fqcBC/RsXGaQSW9EbNV/RFc/i+OcoidIx+Qge1wTFCJVi39/GrHv0fS40Wapy2gA80RjL+GACL11fDvvAUFePlN4CyM2oeoePqWTiT7WJWUK6UwR5Ce+h5vfG9XN2jzotn6FxsQx2IUugUIRb+YcdcMpPmRmOOgDXG0F6JXTRmJDaBYJVesTUeQSPGQHt19rUP/5sS6YvNflVjy1ZcU9XvGNyW+tb3pZb4s/b7Fx5/kkidNSIbDrIFavGr40qkAh85n7LZQ/kmdPUBkbzwI2ruIHW7LBPDPnPdedavN4S/tM+TUDYGRCH0tPla5ivZs95ZycVdd87Cz1A1gCk0LxaLycU/wlvUfH1SUzlvTqx3rgm86iDYcvEYvilBHEfW0F+137netfS0l0qr7YN6R3hafUW/xbHCDxDXpV52zyB94qNcUuOsnEC7MurXUP8F/K2+Gly++/A8dda5fFcbnAOS+B7abdPoPHF2GG8fnA6bFwfddyzv4jF8DfVq/TrKqB6ijTJIDXuCnhWvvt4FCRb2Z6TGIY4b76jtH8lf1aOD7qHwHgK1LI7BcVzXveqWyFK0fvhhrcMibbRIFPp7ndYAm7IxrnWbO81Wc9RJXXY+7J/uBrGxLqJP3YMh0xsWO90cv/vh6gWKxAprHcLD00H352v0E7iVT4lrpF6gvn0Xgo0oHEj7kDrEn2FG6aUiZYlMhWM5NE5CPlKwmFIZr1dO1VRmzXKVi/hNiizaqMMh+rXs/dIV6mCzErzGqtf+W3WvM+q0WRWierBgV93GcNzyChBsKrvd0rvEGZlf7xgenBrd9wfd1+PL1FsSWD0FdmttziduXke6xWHFvRblFqksvhZyKFdHam0MH121ptY6kr+fklAHp8Flgli4PMasVEMqMyzX1C7F1G5xIA9Jje5rlH/da5Goeon212ClFkv1Khf1hlCneIkGRexNm6V8fdeVpmk5Kyd16i7s+uHqoPsTGv9d67E5PCt0oepYccOroVc550MvqSGDDrxP1bPdGNdQeqeX1WMXDktj5TMo7rjyvEWLfevRw+pay9F+al0NmUaN63RR/7qaD7b2AzXU2SNPkk9dOBTMKsKk9GJpmpbsYMSiszYt6km5sO+HK2hwyMTsN1ReeburD712YyhFznBT32uh417hY6OFDU/ahaPCrKIhj0EEQXB2zWPMP6sm/WRC9Lqw9weqQzYd2zvfgd/6p+lYpb9yoajiYYsMyw5RPxiq98Uai9holug2xFVq0fKiDNuWZo0V4TErdAMr+C6vuEK4820qrhYTtf3rE+pa4H9I1NDevez1ufRyeCBqDdvVyPaw1mWlNWlezYOlknbf6KMVFIvhFchvtlUrv6t3LpX9ANSBgw+90v1EUj/GyUQKHdagFP+CWfW5InetymLtkLhWuaKyYJVN6hUsG0zxRJiVT9LaNAnatAiKhTKWPV614q+q+RQu8+M2miKPrdlGf2X9wg/CvwvlXab1prYbfiU4R1tuSpV+baNdXPOiXUX7OEQDUno+5NBBW6YXrIgwZZAXTLE5eNdYMcS0SQuxsCgnmvt0ob4gm8dJBUKh5miQeXpVv6Lk89GnFev8skShhILKCV/Ol6B8Au4zFnIU5btrTqwjle2q3kguhyhSGsJv1M2buKAK2O6XXa2X/FARpqwao85wgA6jtauhjtXNRmvCah6BsNpCmjCWGGCVS9S0rt7mqMFc7rfEzjV76pkm/yDK9QaBK5WxXXM73ivvfjz4gA671JZvvJcbdE8QOo73n94rq3WVi99GOVNVMw5lFZZJxsA2dxANAYHiRxE1SLcHyVE1yKC7s0Jk0NBfctjO7XU+dlrjGtSBb9VX6OdW82jcDk2ToelsHqkjSO0Ne8muVynXMilEzSzAc6B4DKyu6ugd2r9M7Hbf4W0e+ESCiDXvVlDEtjm3GeWaZY6R1XJTPGcVxE1aVpo1aWVRX0n44ZLwR1GCRyo/HsUVyP5cZj789Z/c087eYASpvSGduOwMdzOt3s58fpWO1Qna34tSqKSxetijLLdj5Tex6oinqJcMQ8BPEhD+X2sLzxU882IiA6uo0RSnTKY4FvH7vZgVozVpPmyKJ+U4ylmukdn1MTZm8zGe3YE/gVXRf43E953T8GhWQ6Lx78LuqHcRfwthEdrHh/tmeLDz/5OV15RnxYS3etZhjxjUh4ZkcK22xsPOtoLOZ5bByMoUvJtMMcnHYjEW1mF882tjVucyzPQX/ktdzQ+G/ZB9MAGUqiWx2+gCq3dMAR2OVHnQzc7TyzSU5hwdw00siQtjNeyHxv5hWznMKhJdV2GBB82/ZP/vkT11xKltyIx36KArol2MTOmMBtM1lrKyM1qSPSvEc1HtX+GLMq7tP32NPq0yqK+6OYz91QSsfGyIWFehUIhbWNTqMSAi/Hg6LdT/Umq7NthTMKvUk+lUMisrg89KZsvkxNjONGelM8UTUaLWcQZNTudSvZ7OS7SqLMw726BatdSdiZN6NS+vN2D0taWxslzmK4lZfEtHHCGVkdjaJJqQmqPxCEnKYqzLwoqILjdawIpI+vDBMVgSKDpPC5KYVe86Rv7oNODYO7saoU/O7U/5Tb0zrF44pj9EucPqRuFx4bCB1Q3Bexj3WvgspniiGEGjnDKW2KEadBhwbF4PPnTYJbHCbr3RnQZB34ruiRVEC7FyaA1WWOQseJ9Uu6wuSRBv6JBptDupz/1L58YMyuXOA4/7zFqwWrvNWocVFm9ltZrRSoY1ReO53KLdyoSWdv01dhqtWO/IeYWcgjKna57BXRS7o0gdKym8rnDe5ZznXlpkZRVlDEpBo6SfSDZjxVCzkhfR85n6LyybQpajHlYPvHlu0JqKJBasCNpnrZRW0Br9jTwHFVlGzyq83GjNTLFd7I5FF3E8CiLSJSYpecsP+R68W+XuQv77ZRVLsWwquowVKKQrCiQu+mCKdayMNOYjzUHCh2LxaCqbzSYz1FJHywt+eqs0q8e5FWbouKMHwGrdczUE7zasLL1I0pRVVKt3y4lEQrdGeD4tgIvMliWoDAPMUlFBWFgCAUhKySz8J/kFHtGL7e5nIGIDrNZus8IRHnJvjbrHyippaLOy5ZjFFGNWvuTcg+vjQTtYE5Flr8Q9qVQmRagoAi5dqg7WPQ2DuM3Kv34HBs69+UAguSyQmaxiYQWm2BAMmk0xCwGnzzBIYhgbcYalpRJBYl5JGqSDdT+zb1xnZa2TVlFoNltKsMyEXsQx07wymOKwg9HSh3VhlpWWsILYfRks51R66Xbu68GxWrKzabtgMMWrsEI6T6x5wJBpjrYORxRZpEsNG1MWsEJh63auayOs1q8GuTVYYfFWVktNcSwyZZXUAowI2DqdKdZnug0sXWpm1ZRNaBOsiPVNcZiammLBmu1z6dqghIVV1BhgMCxE97oZh/D18cng4+zQI/aBwg2w6FVTNqCNsLqD0cKs/KZsN+T/pAAmsCk2sLIzxabg3WHw0ZzpDxbWQ2KFy43GyqnNw/k/CRh5MMVsdBkrj9EUY5lYGW3CyrCkVVNc15Ks82mDQg+JFc4QXe9h/AZWjuVKq3UzgtEUS0sDBR0S1jFlw7Ccc44Ki9uPitHltJawuoUphsyjIpPvcKgFmWR84XNzFlamdcsLU4aV4kJc0miK9bm7HNYilXCEZU5xWc6osgFN0lJYzqxuaYpxzyx8R5ZyiC/A6M5nq1mN1nJTjPtHyl7Map65hpKwMizTbUK0Y4q7ckTlAU75EnwsrdCWsLqd0cL5rrFass8ZKzy/QljTaGmDJA6sHjosJ1RsIPA4Q1EpgLVsTtlXZYVlDd5XZWVnileGZRokpR1T3JRDfkSAEW6qKCYQKCzLt02ycqoF9cG2DSvj2qaRTM0UY1aMNvENm2JKFxCy86O+AZbpJiHaMcVF2SOg8oEAqyGi5EAg6Axrk6x8UtJeeBBrZmZsjJZxZYspjsfNplgfvOtg2fREsDokTiG/OcU92RLwQQ1YnJ4L9SgQCDs2WRtllVris+aTZ1lJkiLeO5li0py2BNY8lcg6wspuCJZ9sQI+c250IFBxLFibZbVkPUOzYA3ejVrLFK8MK+gIK7gZWLaoIFxfVBGUqP/rgbAi1mLlbIozmikul8u6QfvUqrA8xmlQC1gez0bujbRlFQhsU4Y/A3ar3Q+rlL0nlsDl8rc1xczUFFP2png5LH3N7AiL2AQsO1TBQCClZwWtl+xQsDbOytEU48FHvSnO3GSKdcF7jOd5bIqphdEydLzqYNl0yOpgEcYCq4e1gblq9sXqiQFNLh0IZOzDi3tg5VSk9aYYZBx9jFrXtjFaTqzcgGVuI12Q+Yx8VC5rLFawLOoYXjwMVliJW7OyM8XMqrBMdxLpYbl+J5bphCjxifgosJWjDMWI4pzCi3VYBbFuxcpH2WqJKdZYGVZ2NsXavWP+HKyjC99uCyuzQVhmVlu4v/ZxPsT68fnNF8NC20pwDVbBUgHE3QDMjpWPdTDF+EZUe1OsDW1lLSszRlMsYFOcsjfFq8MyPgRJB4tb/fFIt2LFpQNTbReztG/KC/cLcnYFax1WhWyQqGyl8yWZIyaFzAaaLStHU6zrLOUlml6YYswqYxO8m8IzvIeUg9FaGRZnLLF6WGtM1V9B5synwPrK4pMZsAqXwnek+ahKIGDTBqzHKugJimKQ4ORiPg1FDKCJFmj2rBxReYyPMZsH77MhY5PMN4YsY4WSS2ExK8Fy9TkuFlZQrqA0+SVP6fGU1+OSR/JmAoGSTcFam5UcnDZcwSAREov5vAatKIamS4mwb4OsHMtVOIMllAVB18isDsuIZFOwTHnvCwcC4qw5D6fEypRXMle0HclaixWYTlnWV3xTaJ6QKJcwtHSpKEteyucJYltFsS6wMj5bgUmAs7IzxVlbU7w6LOOcfD0sF+9MMBcrORBYDAIBMC+dLT7C9ipiG7evw0oulfKPSrIsihweM56R0pTVNKkfC4WtSj7J0n4WEpIY2sqsqJkpnk+biSw3xaCE19lo6WDZzKXQwzLef6CH5d6dCebMDwTyRiK4gEWgnsBxe8oCa82Y3cOJoiwXS0Atj9us6f9p+KsEZQowinQkEg2B30kSYn6rUtCgpYJZx4DfwAqbYm2keM7qbqaYzK4MyzjZXQ/LtcnupmIVDAQkm+Bce/KAsZdwfVZzYhZNBi40jiVGSiUrhYJcLOISVtmqaHHOo61CvihPv3JydxuHRXgs01ESa7LijabYWNmtAcuIRA/Lf3dMmkysHpu6l/RpWWi2zInu9lvg2AK37QS0VyDWE/RkfZCVDGAUoThy2lri1pPA40IJYJZK24VSxBQvlK2slppi3mSKKYMpvgFWUgfLeP+BHpbNhMM7s8JjjBYcC1iPrIbY9T4m7CzJkDEOxO2Vrg4U5WwwJOehoIWy+SxbljxJPa8yNsUGVuGsQXhWb1JniuNLTfHqsExzQPU9GO7cmWCkUXDonpikgiH2mEhuhhVUbUti9lnc7xFLhe18SHuxixSc8+JpkN/rmikmgyvDMiLRw3LlzgRDsZoF7E6wnlgGsjbDiqbx/dtLWWkKBvOQf8GsJEx5zeeoG4J3G1bOplgbbzGY4jVgGZHoYbkx2d3AQrTvnJizhCoyZGS5EVZY/lVYeTx5LQ7kI0wwGeWnvMgVWDmWK80T03FBb4rJxf5sYJF6WEYkelguzJ82sLAE7OaCVTEXrE2xItdipamcyQZTEBUIUjapdcwbWaVuNMWM0RTrsp3UHZ8NrCzhlOwuLD2JZCDALr1rwCeZC9bGWEX9fu96rLTNcmwwSwtICMoyQ0MdOWe1vinW12d6WNY56yvCuvNkdz0rCIWdi9XkbjVcsHw6nhurA/FDT3Eer8dqku9eJhvMCAJTScshjGjek2GSo9GysEKxxe5tbjDQwzIl62Ddef60DgZtDfN0gvY+kwlD0eMyGc2waMg2xGrStt+SlaZyOEmkZTkvc6wXv27trqb4BlhBHSzjEbkIS1esioGA33pCM5IVrrQVCKQfBwJMmgBr6klhZD5+8lxOl1lNcvEurBDuwICgXiY4EYh5PH58aa1milP+CAiv7FsEhDHHooO1Iqy7TXbXVWeLubZ24rTTwwUrXeFC+MmJTAiQsVQiLpTLtLushOlZEkTQltVc4IUdTw1MMTRTUTYkFypbBU7yUjamOKs3xRD9aaxsTfEasIxIXIO1KFae5bfvTIaFfdRWYIvL+TNsFvf7EEk6EmZTDEvInMeTwaPILrLK4fjZa2EVqlS2tieDa4+2nxQgy6WwN162zMjjca3th0MOe7hiurj1KC/KHnMHsDl41zow7E3xGrCM9x+E9Sl3mJK7YPXIuStwwUoLFvGg42S6SoQOZ/BkS4nL59PpIpdlMwTkRoZyhZUmv4WVZzKIEiRCUL0VZYlNEWJRG2h7XEmLnqSBXNyHg3c4Jr+PzhYfB7bzoierA2Y2xQtWWrRoyFl+OSzdERqQ8LkSN32YGuEJ3qHNmrdH9LKuwAUrXFXqB4gnjpGk5VI+XcT9q5VCOh1iw16fZ4VZSzezIm1Y6anp+9ljvJDzhaVUkivmt4HcFm6tiGwqJUJl6KeoXDTrEaHV1fNyZJXBXVU0vqtkYYrXgKXdf8BT+GFbUi4mCOUEb3lDzW1ZeX3e4BJSC1ZUIbC1YOWfnkiYw+6RimTYUj5fyBe2KqVCviSGPNlVJprdmpXHs+y1cWSsHJcYT0iubD3Z3qoUSiX4XxY5rlh4sqXxsrJKctwSU3wDLAjd53fTillMydUJnToay+/inrOC4MLKSns3ooCJ42s9A+1ZMJ+uPIIWpZJeC5mF1cwU34IVVg53c+JjgtPzS7jSLGlzPPCxbeeDFlb4PDRTnJ1D0RstXhcnmGHFWGg6UxKdCft9VC7u+lTO1Z9vMZ9yxnGylZWm2fMOILbwadDwOHApX5nUR6shs7RX2BTTS9q+G1jhzWcjxdgU62YNBKH5sLDC0oyWPSsDLMOuy0Fm049bXZ8VlRNvZjWPLbRsAWZyKb31OPD4yU3ILKywbDpfV2WFNR99XKHDHWsZK23Y2QrLfw+P+LkFKy+1DquZFswKW9vbk1JmN4fiQbDCptiJlQ0sUgrdy3NU12A16/YEVosuUDtWELNDCmE3s2I6Y0krZ5UtaMtk05tNbVnRzs/KCBndpe2s5PlI8YqsIGwTyg4dgyB+sTWGlcgmb2ia3KobV0Xl+8Fe/2HWj6Ai2GQRYndn5SfCM9xLhqJlyyq35GEzxikptpOSeXz3oldjZbl0QoYhYPzyaPwAVlA2xBF2rGLxMCcTE7cEl0DSI90Yirs1U3rlcmV/q4bPcs2ENC9MUV7bGUv2s5huYrW6nDfMaay2cAiIZ7nhSdp49mghm9S6m5JJhknh+8RpOkWUIEZ8UoGoXs8qJkRT2C15y4iPx3P4Vhp/NJoxTv8j7YrYvbOyl998bGTIvT6mW8h5Q0pjlc8Gs+msfbkiyz4Jd8LQfvwM4tTsIiLohJcFoGxEuNnMfhOs5s8WfuCsgp5gejFdQ2PFx6NsEpeYiP450VluJjEcny+/yTR9W6xEOLsHySri99NTVpOqF9/6UKh4GNprV2DIuVb7/ulWdqzcuv/AbVZo2oHx4FhpqaEKBD0VsZTWbnSQOY++DlzlzrZbsXLrnnzXWWl/PFhWsiZucdeXLmZfZae3YuWW/mCsLJHn5lh1iiHzuwVtXyptUAxlnN+3tRlWfq838hBZcdaHjduxOszntXejEqr5TWTzdard8chmDwtWvd+R+iekUvitTAmUqyHSp6g1RNUglsErkV4FL+UTccQLNWhPFViEDkdjpepVSB7+tLzc3oV3KlkzKQHGPx66Gcx9s+LD1texLtqrxba/wo8PCcp/qUcIqUwXdRhF8LLw41EQTeNFvX8kaiozRD7agGzB6vADKQjqHnXc3EGlg/agVqCOe6Pd0ctaIPNPBVWfRP521RoMP50Nuv9q/6KceAvKlv/VYfswVvEWep8zL3pHV3ZXgwuyZBLJPTxWq277JsR1S+ig+xNm9Wf+XfRI3TvY6exctTqtq2Gn9WPiXfy61yrwg9q/am/0NZ2elZr5CzoP7jVbSB6nT9FucdgbjT1fhGP84tXeDkJ7aP9ogHqjY3SV22Le0bDooLbrbaED6SM6VvNnG+q4fyCs7hIe68qVQqIiamis9l8gdPUBDfof9o+u6s2dN0yShkX7R+PUBeoMj3HiQgtWnRdIDXR2qn9rXqj/yCiNVgtVvKNf0OGElfoMvT5ROh8Hisaqtof6ZVh00D0UXqCTCLDq1HsbesfqA2F1l2HyxU6/wM9J/LeuVgdWhIr/6fhYY/WhuQPlqv2j8Iv6O5SrxBt+z4kV6sinftJzysbOk2GVO0MNcZSodbhwOIw6Cn5HbxcvjaKykEG+ek9s40XNUy/8M1S7KFMNWWITl2RlJYZuI+5urO6ixU7xCIdKx2PxKjT6qlRDXkkpK2QN/yA6rC3yQ3vFdqEgl/WB20ZjdrdkrVrJ20nb9iuzur1Ilx8V8w3I1Ud4rKqvcoF8S6qeT16bXTa8PHtqetSu19kZ3krkdHcJu3d1r7S7WdlfOoPsAb1NdVwsmUP/quYaeaWxZnv4qasG4NTIThtqep7XeuWg0ucVXJ2Md+IK7tomY/Yn3y/Jlq6BIf4UkMM7mi27S8TMuyMdd4fV/MyJuPehufPc8Uwb9ZTLl9jtVX2koJ/rZVohhTCfQ2StSteqF7xCJq5agqLSNbwc+Va6+/zwLIe9xmXvc/+693TQPcm8RYHUfydfjf+detFsDXyfzy+ae57/sdu2cYSaLxCVQeV4FOIBnlfpeu9jGfL/524OUWHEC2GFzNSMuyOrz9BL6nP/BexuuMuexKa7Y/Hu4I9/qHvntrvTNAYTBBdCf9zaBVbnpdG4+BT1iSI6Jy5RQ27B9dP+rUWj82J7PyR//Rewj/F7x5u/C6+a/87t7X5ojL7ET+LvIaBtXbV362+FL7nPub3eUae9ypfFU5/H4BZ7Q/RSSLNKlPkLOkYldEh9RC/jrec+cBoQFR/bbfoJX9mdo87F4enV6As6jO8Jhd7Hd6gxfCMc4+WN687Rm9pAMezuf6sv0MA30nZXHzPYm+LdtdAn2F3sAg3OHXanqflZPobklwJmNb5AUhr1Pr5RGt3f0EF0j3zju0Bsvz7I7aA35ReosE62bkRNYDU+H0LmtNBlc+cHFUwh/b4PrDrdK98OakgtdFyVZbs2wax/QpZHd6p7ULbSVL33eg/9BlmRR5+oI1QYtwZeYHUw3H9mty1YShSGj+KuMm41hpe9j+gq81FEne6h8gIvb3SrF73SmWl3tWfoF2oH5XP13tGf0ZWg7S432R0PrPrD/eXlqjpj1fmIxs9QswW7HIJ3li6jUrSFhKv6IDoC03sEF8FX1z+75e3eBfm2uYMgb4/QW2WQe38w6rcao11w4F8gJ/Y6w+YqtntcKrXR4ExqBotdVRZr5xyTO0Up1MiV5KE6pIUh1DhZ5tpu297v/MHRwccmcOm1qoERVIgF6uNfa2+6h/zxQbv5ArMKok86s1rGu+uLTFnbnVxryKmMpNtdrI0k8py5dDzeHq5TfmECAm6vqoXzo6vTdL0ERTmPGt0TaQ8Vzi8OWj/EKuwLMNLpNTN2AyKZJFxUwRrYay/uLB4Hh4iqMlFBbeeUsaerLU8l79TA9hY1aO/63L7iHwdhpX5SoXAPdkRBPjikmsr4+XHEh/qMItSrVDm4UlXcW+zBcXcLzTvncXSiO83EZBEOTf54Rmsi/h56A/Q34XwLnQ/f9V3f9V1/EP0fjvEMG3gfOvIAAAAASUVORK5CYII=)"
      ]
    },
    {
      "cell_type": "code",
      "metadata": {
        "id": "abf_INzc8KDF"
      },
      "source": [
        "class LeNet(nn.Module):\n",
        "  def __init__(self):\n",
        "    super(LeNet,self).__init__()\n",
        "    self.relu = nn.ReLU()\n",
        "    self.pool = nn.AvgPool2d(kernel_size=(2,2),stride=(2,2))\n",
        "    self.conv1 = nn.Conv2d(in_channels=1, out_channels=6,\n",
        "                           kernel_size=(5,5),stride= (1,1),padding=(0,0))\n",
        "    \n",
        "    self.conv2 = nn.Conv2d(in_channels=6, out_channels=16,\n",
        "                           kernel_size=(5,5),stride= (1,1),padding=(0,0))\n",
        "    self.conv3 = nn.Conv2d(in_channels=16, out_channels=120,\n",
        "                           kernel_size=(5,5),stride= (1,1),padding=(0,0))\n",
        "    \n",
        "    self.linear1 = nn.Linear(120,84)\n",
        "    self.linear2 = nn.Linear(84,10)\n",
        "\n",
        "\n",
        "  def forward(self,x):\n",
        "    x = self.relu(self.conv1(x))\n",
        "    x= self.pool(x)\n",
        "    x = self.relu(self.conv2(x))\n",
        "    x = self.pool(x)\n",
        "    x = self.relu(self.conv3(x))\n",
        "    x = x.reshape(x.shape[0],-1)\n",
        "    x = self.relu(self.linear1(x))\n",
        "    x = self.linear2(x)\n",
        "    return x"
      ],
      "execution_count": 3,
      "outputs": []
    },
    {
      "cell_type": "code",
      "metadata": {
        "colab": {
          "base_uri": "https://localhost:8080/"
        },
        "id": "fwRzVVp2BYsv",
        "outputId": "f11173cf-1213-4728-cbd4-713e58574c84"
      },
      "source": [
        "#Check if the model works\n",
        "x = torch.randn(64,1,32,32)\n",
        "model = LeNet()\n",
        "print(model(x).shape)"
      ],
      "execution_count": 4,
      "outputs": [
        {
          "output_type": "stream",
          "text": [
            "torch.Size([64, 10])\n"
          ],
          "name": "stdout"
        }
      ]
    },
    {
      "cell_type": "code",
      "metadata": {
        "id": "sXygr5TaBwgm"
      },
      "source": [
        ""
      ],
      "execution_count": null,
      "outputs": []
    }
  ]
}
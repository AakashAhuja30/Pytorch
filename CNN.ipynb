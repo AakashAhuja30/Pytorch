{
  "nbformat": 4,
  "nbformat_minor": 0,
  "metadata": {
    "colab": {
      "name": "CNN.ipynb",
      "provenance": [],
      "authorship_tag": "ABX9TyN4INE4NwY/wSzFqnO6POuJ",
      "include_colab_link": true
    },
    "kernelspec": {
      "name": "python3",
      "display_name": "Python 3"
    },
    "accelerator": "GPU"
  },
  "cells": [
    {
      "cell_type": "markdown",
      "metadata": {
        "id": "view-in-github",
        "colab_type": "text"
      },
      "source": [
        "<a href=\"https://colab.research.google.com/github/AakashAhuja30/Pytorch/blob/main/CNN.ipynb\" target=\"_parent\"><img src=\"https://colab.research.google.com/assets/colab-badge.svg\" alt=\"Open In Colab\"/></a>"
      ]
    },
    {
      "cell_type": "code",
      "metadata": {
        "id": "RTiAyqjDBOGN"
      },
      "source": [
        "import torch\n",
        "import torch.nn as nn\n",
        "import torch.optim as optim\n",
        "import torch.nn.functional as F\n",
        "from torch.utils.data import DataLoader\n",
        "import torchvision.datasets as datasets\n",
        "import torchvision.transforms as transform"
      ],
      "execution_count": 3,
      "outputs": []
    },
    {
      "cell_type": "code",
      "metadata": {
        "id": "S8jfS94xWrBg"
      },
      "source": [
        "class CNN(nn.Module):\n",
        "  def __init__(self, in_channels=1, num_classes=10):\n",
        "    super(CNN,self).__init__()\n",
        "    self.conv1 = nn.Conv2d(in_channels=1,out_channels=8,kernel_size=(3,3),stride=(1,1),padding=(1,1))\n",
        "    self.pool = nn.MaxPool2d(kernel_size=(2,2),stride=(2,2))\n",
        "    self.conv2 = nn.Conv2d(in_channels=8,out_channels=16,kernel_size=(3,3),stride=(1,1),padding=(1,1))\n",
        "    self.fc1= nn.Linear(16*7*7, num_classes)\n",
        "\n",
        "  def forward(self,x):\n",
        "    x = F.relu(self.conv1(x))\n",
        "    x = self.pool(x)\n",
        "    x = F.relu(self.conv2(x))\n",
        "    x = self.pool(x)\n",
        "    x = x.reshape(x.shape[0],-1)\n",
        "    x = self.fc1(x)\n",
        "\n",
        "    return x"
      ],
      "execution_count": 2,
      "outputs": []
    },
    {
      "cell_type": "code",
      "metadata": {
        "colab": {
          "base_uri": "https://localhost:8080/"
        },
        "id": "TvOf6fEWXJ4D",
        "outputId": "870d05de-655e-42ae-e96b-50fb086cec70"
      },
      "source": [
        "#Set Device\n",
        "device = torch.device('cuda' if torch.cuda.is_available() else 'cpu')\n",
        "print(device)"
      ],
      "execution_count": 7,
      "outputs": [
        {
          "output_type": "stream",
          "text": [
            "cuda\n"
          ],
          "name": "stdout"
        }
      ]
    },
    {
      "cell_type": "code",
      "metadata": {
        "id": "GJs3djCpYxko"
      },
      "source": [
        "#Hyperparameters\n",
        "input_channels = 1\n",
        "num_classes = 10\n",
        "learning_rate = 0.001\n",
        "batch_size = 64\n",
        "num_epochs = 10"
      ],
      "execution_count": 4,
      "outputs": []
    },
    {
      "cell_type": "code",
      "metadata": {
        "id": "PpJDQMuTZPZA"
      },
      "source": [
        "#Load Data\n",
        "train_dataset = datasets.MNIST(root='dataset/',train = True, transform=transform.ToTensor(), download=True)\n",
        "train_loader = DataLoader(dataset = train_dataset , batch_size=batch_size,shuffle=True)\n",
        "test_dataset = datasets.MNIST(root='dataset/',train = False, transform=transform.ToTensor(), download=True)\n",
        "test_loader = DataLoader(dataset = test_dataset , batch_size=batch_size,shuffle=True)"
      ],
      "execution_count": 5,
      "outputs": []
    },
    {
      "cell_type": "code",
      "metadata": {
        "id": "ILQmyv5DZSIq"
      },
      "source": [
        "model= CNN().to(device)\n",
        "#Loss and Optimizer\n",
        "criterion = nn.CrossEntropyLoss()\n",
        "optimizer = optim.Adam(model.parameters(),lr=learning_rate)"
      ],
      "execution_count": 8,
      "outputs": []
    },
    {
      "cell_type": "code",
      "metadata": {
        "id": "vDVDH2FiZz-I"
      },
      "source": [
        "def check_accuracy(loader,model):\n",
        "  if loader.dataset.train:\n",
        "    print('Checking accuracy on Train data')\n",
        "  else:\n",
        "    print('Checking accuracy on Test data')\n",
        "\n",
        "  num_samples =  0\n",
        "  num_correct = 0\n",
        "  model.eval()\n",
        "\n",
        "  with torch.no_grad():\n",
        "    for x,y in loader:\n",
        "      x = data.to(device = device)\n",
        "      y = target.to(device = device)\n",
        "\n",
        "      scores= model(x)\n",
        "      _,pred=torch.max(scores,1)\n",
        "      num_correct += (pred ==y).sum()\n",
        "      num_samples += pred.size(0)\n",
        "\n",
        "    print(f'Accuracy is :{(num_correct/num_samples)*100}')\n",
        "\n",
        "  model.train()  "
      ],
      "execution_count": 13,
      "outputs": []
    },
    {
      "cell_type": "code",
      "metadata": {
        "colab": {
          "base_uri": "https://localhost:8080/"
        },
        "id": "E0wSPokdaUXD",
        "outputId": "441eb341-66a4-4009-c5ad-ff7355762815"
      },
      "source": [
        "for epoch in range(num_epochs):\n",
        "  for batch_idx, (data,target) in enumerate(train_loader):\n",
        "    data = data.to(device = device)\n",
        "    target = target.to(device = device)\n",
        "    \n",
        "    #Forward pass\n",
        "    output = model(data)\n",
        "    loss = criterion(output,target)\n",
        "\n",
        "    #Backward pass\n",
        "    loss.backward()\n",
        "\n",
        "    #Gradient descent\n",
        "    optimizer.step()\n",
        "    optimizer.zero_grad()\n",
        "\n",
        "  print(f'epoch{epoch+1}')\n",
        "  #check_accuracy(train_loader,model)\n",
        "  check_accuracy(test_loader,model)"
      ],
      "execution_count": 14,
      "outputs": [
        {
          "output_type": "stream",
          "text": [
            "epoch1\n",
            "Checking accuracy on Test data\n",
            "Accuracy is :100.0\n",
            "epoch2\n",
            "Checking accuracy on Test data\n",
            "Accuracy is :100.0\n",
            "epoch3\n",
            "Checking accuracy on Test data\n",
            "Accuracy is :100.0\n",
            "epoch4\n",
            "Checking accuracy on Test data\n",
            "Accuracy is :96.875\n",
            "epoch5\n",
            "Checking accuracy on Test data\n",
            "Accuracy is :100.0\n",
            "epoch6\n",
            "Checking accuracy on Test data\n",
            "Accuracy is :100.0\n",
            "epoch7\n",
            "Checking accuracy on Test data\n",
            "Accuracy is :100.0\n",
            "epoch8\n",
            "Checking accuracy on Test data\n",
            "Accuracy is :100.0\n",
            "epoch9\n",
            "Checking accuracy on Test data\n",
            "Accuracy is :100.0\n",
            "epoch10\n",
            "Checking accuracy on Test data\n",
            "Accuracy is :100.0\n"
          ],
          "name": "stdout"
        }
      ]
    },
    {
      "cell_type": "code",
      "metadata": {
        "id": "ezdxFb5FqBDO"
      },
      "source": [
        ""
      ],
      "execution_count": null,
      "outputs": []
    }
  ]
}
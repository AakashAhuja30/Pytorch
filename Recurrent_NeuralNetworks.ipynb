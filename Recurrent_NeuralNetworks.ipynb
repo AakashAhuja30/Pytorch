{
  "nbformat": 4,
  "nbformat_minor": 0,
  "metadata": {
    "colab": {
      "name": "Recurrent_NeuralNetworks.ipynb",
      "provenance": [],
      "authorship_tag": "ABX9TyOVHLQB6uP3LgTHeo+a+uL3",
      "include_colab_link": true
    },
    "kernelspec": {
      "name": "python3",
      "display_name": "Python 3"
    },
    "accelerator": "GPU"
  },
  "cells": [
    {
      "cell_type": "markdown",
      "metadata": {
        "id": "view-in-github",
        "colab_type": "text"
      },
      "source": [
        "<a href=\"https://colab.research.google.com/github/AakashAhuja30/Pytorch/blob/main/Recurrent_NeuralNetworks.ipynb\" target=\"_parent\"><img src=\"https://colab.research.google.com/assets/colab-badge.svg\" alt=\"Open In Colab\"/></a>"
      ]
    },
    {
      "cell_type": "code",
      "metadata": {
        "id": "A1FrCuqSssbH"
      },
      "source": [
        "import torch\n",
        "import torch.nn as nn\n",
        "import torch.optim as optim\n",
        "import torch.nn.functional as F\n",
        "from torch.utils.data import DataLoader\n",
        "import torchvision.datasets as datasets\n",
        "import torchvision.transforms as transform\n",
        "import tqdm"
      ],
      "execution_count": 1,
      "outputs": []
    },
    {
      "cell_type": "code",
      "metadata": {
        "colab": {
          "base_uri": "https://localhost:8080/"
        },
        "id": "s9Oj41XYs0Db",
        "outputId": "6aa963fc-1748-4306-c7be-765a134ef650"
      },
      "source": [
        "#Set device\n",
        "device = torch.device('cuda' if torch.cuda.is_available() else 'cpu')\n",
        "print(device)"
      ],
      "execution_count": 29,
      "outputs": [
        {
          "output_type": "stream",
          "text": [
            "cuda\n"
          ],
          "name": "stdout"
        }
      ]
    },
    {
      "cell_type": "code",
      "metadata": {
        "id": "slQ_CU6ss_p_"
      },
      "source": [
        "#Hyperparameters\n",
        "learning_rate = 0.001\n",
        "batch_size=64\n",
        "num_epochs=5\n",
        "input_size=28\n",
        "sequence_length=28\n",
        "num_layers=2\n",
        "hidden_size=256\n",
        "num_classes=10"
      ],
      "execution_count": 34,
      "outputs": []
    },
    {
      "cell_type": "code",
      "metadata": {
        "id": "N-dPXoQktSXB"
      },
      "source": [
        "class RNN(nn.Module):\n",
        "  def __init__(self, input_size, hidden_size, num_layers,num_classes):\n",
        "    super(RNN,self).__init__()\n",
        "    self.hidden_size= hidden_size\n",
        "    self.num_layers = num_layers\n",
        "    #Better performance with GRU\n",
        "    self.rnn = nn.GRU(input_size,hidden_size,num_layers,batch_first=True)\n",
        "    self.fc = nn.Linear(hidden_size*sequence_length,num_classes)\n",
        "\n",
        "  def forward(self,x):\n",
        "    h0 = torch.zeros(self.num_layers,x.size(0),self.hidden_size).to(device)\n",
        "\n",
        "    #Forward prop\n",
        "    out, _ = self.rnn(x,h0)\n",
        "    out = out.reshape(out.shape[0],-1)\n",
        "    out = self.fc(out)\n",
        "    return out"
      ],
      "execution_count": 4,
      "outputs": []
    },
    {
      "cell_type": "code",
      "metadata": {
        "id": "526E5eCA5Q9M"
      },
      "source": [
        "class LSTM(nn.Module):\n",
        "  def __init__(self, input_size, hidden_size, num_layers,num_classes):\n",
        "    super(LSTM,self).__init__()\n",
        "    self.hidden_size= hidden_size\n",
        "    self.num_layers = num_layers\n",
        "    self.lstm = nn.LSTM(input_size,hidden_size,num_layers,batch_first=True)\n",
        "    self.fc = nn.Linear(hidden_size*sequence_length,num_classes)\n",
        "\n",
        "  def forward(self,x):\n",
        "    h0 = torch.zeros(self.num_layers,x.size(0),self.hidden_size).to(device)\n",
        "    c0 = torch.zeros(self.num_layers,x.size(0),self.hidden_size).to(device)\n",
        "\n",
        "    #Forward prop\n",
        "    out, _ = self.lstm(x,(h0,c0))\n",
        "    out = out.reshape(out.shape[0],-1)\n",
        "    out = self.fc(out)\n",
        "    return out"
      ],
      "execution_count": 23,
      "outputs": []
    },
    {
      "cell_type": "code",
      "metadata": {
        "id": "gccKh1fPwABQ"
      },
      "source": [
        "#Load Data\n",
        "train_dataset = datasets.MNIST(root='dataset/',train = True, transform=transform.ToTensor(), download=True)\n",
        "train_loader = DataLoader(dataset = train_dataset , batch_size=batch_size,shuffle=True)\n",
        "test_dataset = datasets.MNIST(root='dataset/',train = False, transform=transform.ToTensor(), download=True)\n",
        "test_loader = DataLoader(dataset = test_dataset , batch_size=batch_size,shuffle=True)"
      ],
      "execution_count": 35,
      "outputs": []
    },
    {
      "cell_type": "code",
      "metadata": {
        "id": "6SCfalunwEAh"
      },
      "source": [
        "#Initialize Network\n",
        "model= RNN(input_size,hidden_size,num_layers, num_classes).to(device)\n",
        "#Loss and Optimizer\n",
        "criterion = nn.CrossEntropyLoss()\n",
        "optimizer = optim.Adam(model.parameters(),lr=learning_rate)"
      ],
      "execution_count": 7,
      "outputs": []
    },
    {
      "cell_type": "code",
      "metadata": {
        "colab": {
          "base_uri": "https://localhost:8080/"
        },
        "id": "aEiSHTh50DaY",
        "outputId": "3aff79ae-c7be-41d2-d87a-fba66f633d80"
      },
      "source": [
        "examples = iter(train_loader)\n",
        "samples, labels = examples.next()\n",
        "print(samples.shape, labels.shape)"
      ],
      "execution_count": 8,
      "outputs": [
        {
          "output_type": "stream",
          "text": [
            "torch.Size([64, 1, 28, 28]) torch.Size([64])\n"
          ],
          "name": "stdout"
        }
      ]
    },
    {
      "cell_type": "code",
      "metadata": {
        "id": "aj5CwHXB2kau"
      },
      "source": [
        "def check_accuracy(loader,model):\n",
        "  if loader.dataset.train:\n",
        "    print('Checking accuracy on Train data')\n",
        "  else:\n",
        "    print('Checking accuracy on Test data')\n",
        "\n",
        "  num_samples =  0\n",
        "  num_correct = 0\n",
        "  model.eval()\n",
        "\n",
        "  with torch.no_grad():\n",
        "    for x,y in loader:\n",
        "      x = x.to(device = device).squeeze(1)\n",
        "      y = y.to(device = device)\n",
        "      #x = x.view(x.shape[0],-1)\n",
        "\n",
        "      scores= model(x)\n",
        "      _,pred=torch.max(scores,1)\n",
        "      num_correct += (pred ==y).sum()\n",
        "      num_samples += pred.size(0)\n",
        "\n",
        "    print(f'Accuracy is :{(num_correct/num_samples)*100}')\n",
        "\n",
        "  model.train()  \n",
        "  "
      ],
      "execution_count": 36,
      "outputs": []
    },
    {
      "cell_type": "code",
      "metadata": {
        "colab": {
          "base_uri": "https://localhost:8080/"
        },
        "id": "fkuoXs58wI1E",
        "outputId": "4f46f4e1-1ce2-482c-e608-4b73f09a6417"
      },
      "source": [
        "for epoch in range(num_epochs):\n",
        "  for batch_idx, (data,target) in enumerate(train_loader):\n",
        "    data = data.to(device = device).squeeze(1)\n",
        "    target = target.to(device = device)\n",
        "    \n",
        "    #Forward pass\n",
        "    output = model(data)\n",
        "    loss = criterion(output,target)\n",
        "\n",
        "    #Backward pass\n",
        "    optimizer.zero_grad()\n",
        "    loss.backward()\n",
        "\n",
        "    #Gradient descent\n",
        "    optimizer.step()\n",
        "    \n",
        "  print(f'epoch{epoch+1}:')\n",
        "  check_accuracy(train_loader,model)\n",
        "  check_accuracy(test_loader,model)"
      ],
      "execution_count": 10,
      "outputs": [
        {
          "output_type": "stream",
          "text": [
            "epoch1:\n",
            "Checking accuracy on Train data\n",
            "Accuracy is :97.73999786376953\n",
            "Checking accuracy on Test data\n",
            "Accuracy is :97.64999389648438\n",
            "epoch2:\n",
            "Checking accuracy on Train data\n",
            "Accuracy is :98.86833190917969\n",
            "Checking accuracy on Test data\n",
            "Accuracy is :98.68999481201172\n",
            "epoch3:\n",
            "Checking accuracy on Train data\n",
            "Accuracy is :98.81500244140625\n",
            "Checking accuracy on Test data\n",
            "Accuracy is :98.5999984741211\n",
            "epoch4:\n",
            "Checking accuracy on Train data\n",
            "Accuracy is :99.05333709716797\n",
            "Checking accuracy on Test data\n",
            "Accuracy is :98.65999603271484\n",
            "epoch5:\n",
            "Checking accuracy on Train data\n",
            "Accuracy is :98.98666381835938\n",
            "Checking accuracy on Test data\n",
            "Accuracy is :98.40999603271484\n",
            "epoch6:\n",
            "Checking accuracy on Train data\n",
            "Accuracy is :99.44499969482422\n",
            "Checking accuracy on Test data\n",
            "Accuracy is :98.82999420166016\n",
            "epoch7:\n",
            "Checking accuracy on Train data\n",
            "Accuracy is :99.23999786376953\n",
            "Checking accuracy on Test data\n",
            "Accuracy is :98.7199935913086\n",
            "epoch8:\n",
            "Checking accuracy on Train data\n",
            "Accuracy is :99.27166748046875\n",
            "Checking accuracy on Test data\n",
            "Accuracy is :98.45999145507812\n",
            "epoch9:\n",
            "Checking accuracy on Train data\n",
            "Accuracy is :99.55166625976562\n",
            "Checking accuracy on Test data\n",
            "Accuracy is :98.80999755859375\n",
            "epoch10:\n",
            "Checking accuracy on Train data\n",
            "Accuracy is :99.19166564941406\n",
            "Checking accuracy on Test data\n",
            "Accuracy is :98.55999755859375\n"
          ],
          "name": "stdout"
        }
      ]
    },
    {
      "cell_type": "code",
      "metadata": {
        "id": "ovLKUzD18WsC"
      },
      "source": [
        "#Initialize Network\n",
        "model= LSTM(input_size,hidden_size,num_layers, num_classes).to(device)\n",
        "#Loss and Optimizer\n",
        "criterion = nn.CrossEntropyLoss()\n",
        "optimizer = optim.Adam(model.parameters(),lr=learning_rate)"
      ],
      "execution_count": 24,
      "outputs": []
    },
    {
      "cell_type": "code",
      "metadata": {
        "colab": {
          "base_uri": "https://localhost:8080/"
        },
        "id": "T94Eayua6THk",
        "outputId": "ad746e91-70dc-4357-e0fa-e3059711d8cf"
      },
      "source": [
        "for epoch in range(num_epochs):\n",
        "  for batch_idx, (data,target) in enumerate(train_loader):\n",
        "    data = data.to(device = device).squeeze(1)\n",
        "    target = target.to(device = device)\n",
        "    \n",
        "    #Forward pass\n",
        "    output = model(data)\n",
        "    loss = criterion(output,target)\n",
        "\n",
        "    #Backward pass\n",
        "    optimizer.zero_grad()\n",
        "    loss.backward()\n",
        "\n",
        "    #Gradient descent\n",
        "    optimizer.step()\n",
        "    \n",
        "  print(f'epoch{epoch+1}:')\n",
        "  check_accuracy(train_loader,model)\n",
        "  check_accuracy(test_loader,model)"
      ],
      "execution_count": 25,
      "outputs": [
        {
          "output_type": "stream",
          "text": [
            "epoch1:\n",
            "Checking accuracy on Train data\n",
            "Accuracy is :97.27333068847656\n",
            "Checking accuracy on Test data\n",
            "Accuracy is :97.0999984741211\n",
            "epoch2:\n",
            "Checking accuracy on Train data\n",
            "Accuracy is :98.79666900634766\n",
            "Checking accuracy on Test data\n",
            "Accuracy is :98.5999984741211\n",
            "epoch3:\n",
            "Checking accuracy on Train data\n",
            "Accuracy is :98.78666687011719\n",
            "Checking accuracy on Test data\n",
            "Accuracy is :98.39999389648438\n",
            "epoch4:\n",
            "Checking accuracy on Train data\n",
            "Accuracy is :98.91000366210938\n",
            "Checking accuracy on Test data\n",
            "Accuracy is :98.39999389648438\n",
            "epoch5:\n",
            "Checking accuracy on Train data\n",
            "Accuracy is :99.08500671386719\n",
            "Checking accuracy on Test data\n",
            "Accuracy is :98.62999725341797\n"
          ],
          "name": "stdout"
        }
      ]
    },
    {
      "cell_type": "markdown",
      "metadata": {
        "id": "RyuoimplCj0p"
      },
      "source": [
        "# Birdirectional LSTM"
      ]
    },
    {
      "cell_type": "code",
      "metadata": {
        "id": "16Re6_Yq6Zpz"
      },
      "source": [
        "class BRNN(nn.Module):\n",
        "  def __init__(self, input_size,hidden_size,num_layers,num_classes):\n",
        "    super(BRNN,self).__init__()\n",
        "    self.hidden_size= hidden_size\n",
        "    self.num_layers = num_layers\n",
        "    self.lstm = nn.LSTM(input_size,hidden_size,num_layers,batch_first=True, bidirectional=True)\n",
        "    self.fc = nn.Linear(hidden_size*2,num_classes)\n",
        "\n",
        "\n",
        "  def forward(self,x):\n",
        "    h0 = torch.zeros(self.num_layers*2, x.size(0), self.hidden_size).to(device)\n",
        "    c0 = torch.zeros(self.num_layers*2, x.size(0), self.hidden_size).to(device)\n",
        "\n",
        "    out,_ = self.lstm(x,(h0,c0))\n",
        "    out = self.fc(out[:,-1,:])\n",
        "\n",
        "    return out"
      ],
      "execution_count": 42,
      "outputs": []
    },
    {
      "cell_type": "code",
      "metadata": {
        "id": "RKcymLuNELTZ"
      },
      "source": [
        "#Initialize Network\n",
        "model= BRNN(input_size,hidden_size,num_layers, num_classes).to(device)\n",
        "#Loss and Optimizer\n",
        "criterion = nn.CrossEntropyLoss()\n",
        "optimizer = optim.Adam(model.parameters(),lr=learning_rate)"
      ],
      "execution_count": 43,
      "outputs": []
    },
    {
      "cell_type": "code",
      "metadata": {
        "colab": {
          "base_uri": "https://localhost:8080/"
        },
        "id": "HpSRXs_2ERtp",
        "outputId": "49fa59f3-dcd9-461d-c2f5-dd8b84ec847b"
      },
      "source": [
        "for epoch in range(num_epochs):\n",
        "  for batch_idx, (data,target) in enumerate(train_loader):\n",
        "    data = data.to(device = device).squeeze(1)\n",
        "    target = target.to(device = device)\n",
        "    \n",
        "    #Forward pass\n",
        "    output = model(data)\n",
        "    loss = criterion(output,target)\n",
        "\n",
        "    #Backward pass\n",
        "    optimizer.zero_grad()\n",
        "    loss.backward()\n",
        "\n",
        "    #Gradient descent\n",
        "    optimizer.step()\n",
        "    \n",
        "  print(f'epoch{epoch+1}:')\n",
        "  check_accuracy(train_loader,model)\n",
        "  check_accuracy(test_loader,model)"
      ],
      "execution_count": 44,
      "outputs": [
        {
          "output_type": "stream",
          "text": [
            "epoch1:\n",
            "Checking accuracy on Train data\n",
            "Accuracy is :94.6916732788086\n",
            "Checking accuracy on Test data\n",
            "Accuracy is :94.58999633789062\n",
            "epoch2:\n",
            "Checking accuracy on Train data\n",
            "Accuracy is :97.625\n",
            "Checking accuracy on Test data\n",
            "Accuracy is :97.52999877929688\n",
            "epoch3:\n",
            "Checking accuracy on Train data\n",
            "Accuracy is :98.27667236328125\n",
            "Checking accuracy on Test data\n",
            "Accuracy is :97.82999420166016\n",
            "epoch4:\n",
            "Checking accuracy on Train data\n",
            "Accuracy is :97.91500091552734\n",
            "Checking accuracy on Test data\n",
            "Accuracy is :97.7199935913086\n",
            "epoch5:\n",
            "Checking accuracy on Train data\n",
            "Accuracy is :98.79500579833984\n",
            "Checking accuracy on Test data\n",
            "Accuracy is :98.2699966430664\n"
          ],
          "name": "stdout"
        }
      ]
    },
    {
      "cell_type": "code",
      "metadata": {
        "id": "c2kBWFlfEUts"
      },
      "source": [
        ""
      ],
      "execution_count": null,
      "outputs": []
    }
  ]
}
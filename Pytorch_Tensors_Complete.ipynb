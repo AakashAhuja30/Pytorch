{
  "nbformat": 4,
  "nbformat_minor": 0,
  "metadata": {
    "colab": {
      "name": "Pytorch_Tensors_Complete.ipynb",
      "provenance": [],
      "authorship_tag": "ABX9TyMH9SzF/eLwugfASQWdj2e7",
      "include_colab_link": true
    },
    "kernelspec": {
      "name": "python3",
      "display_name": "Python 3"
    },
    "accelerator": "GPU"
  },
  "cells": [
    {
      "cell_type": "markdown",
      "metadata": {
        "id": "view-in-github",
        "colab_type": "text"
      },
      "source": [
        "<a href=\"https://colab.research.google.com/github/AakashAhuja30/Pytorch/blob/main/Pytorch_Tensors_Complete.ipynb\" target=\"_parent\"><img src=\"https://colab.research.google.com/assets/colab-badge.svg\" alt=\"Open In Colab\"/></a>"
      ]
    },
    {
      "cell_type": "code",
      "metadata": {
        "id": "4THUsgxfSTVh"
      },
      "source": [
        "import torch"
      ],
      "execution_count": 93,
      "outputs": []
    },
    {
      "cell_type": "code",
      "metadata": {
        "id": "AqscIjdxS0XI"
      },
      "source": [
        "device='cuda' if torch.cuda.is_available() else 'cpu'"
      ],
      "execution_count": 94,
      "outputs": []
    },
    {
      "cell_type": "code",
      "metadata": {
        "colab": {
          "base_uri": "https://localhost:8080/",
          "height": 35
        },
        "id": "G-7qUoqLTR0T",
        "outputId": "662938db-c44a-46f1-e21d-37c68a6c196e"
      },
      "source": [
        "device"
      ],
      "execution_count": 4,
      "outputs": [
        {
          "output_type": "execute_result",
          "data": {
            "application/vnd.google.colaboratory.intrinsic+json": {
              "type": "string"
            },
            "text/plain": [
              "'cuda'"
            ]
          },
          "metadata": {
            "tags": []
          },
          "execution_count": 4
        }
      ]
    },
    {
      "cell_type": "code",
      "metadata": {
        "id": "VtRyXtX4SUyi"
      },
      "source": [
        "#List- Can also setup dtype and also device, requires_grad\n",
        "my_tensor = torch.tensor([\n",
        "                          [1,2,3],\n",
        "                          [4,5,6]],\n",
        "            dtype = torch.float32,\n",
        "            device=device, requires_grad = True    \n",
        ")"
      ],
      "execution_count": 7,
      "outputs": []
    },
    {
      "cell_type": "code",
      "metadata": {
        "colab": {
          "base_uri": "https://localhost:8080/"
        },
        "id": "5qLr7NE3Sw0G",
        "outputId": "b13ebb6f-1373-4531-8513-0505d1b2c9fc"
      },
      "source": [
        "print(my_tensor)\n",
        "print(my_tensor.device)\n",
        "print(my_tensor.dtype)\n",
        "print(my_tensor.shape)"
      ],
      "execution_count": 9,
      "outputs": [
        {
          "output_type": "stream",
          "text": [
            "tensor([[1., 2., 3.],\n",
            "        [4., 5., 6.]], device='cuda:0', requires_grad=True)\n",
            "cuda:0\n",
            "torch.float32\n",
            "torch.Size([2, 3])\n"
          ],
          "name": "stdout"
        }
      ]
    },
    {
      "cell_type": "code",
      "metadata": {
        "colab": {
          "base_uri": "https://localhost:8080/"
        },
        "id": "E202UV-5UAQG",
        "outputId": "aa02257d-e289-43e9-d3c6-4dda0abb75a2"
      },
      "source": [
        "#Initialization methods\n",
        "x = torch.empty((3,3)).uniform_(0,1)\n",
        "print(x)\n",
        "x= torch.rand((3,3))\n",
        "print(x)\n",
        "x = torch.zeros((2,3))\n",
        "print(x)\n",
        "\n",
        "x = torch.ones((2,2))\n",
        "print(x)\n",
        "\n",
        "x = torch.eye(2,1)\n",
        "print(x)\n",
        "\n",
        "x=torch.diag(torch.ones(5))\n",
        "print(x)\n",
        "\n",
        "x=torch.arange(start=0, end=10, step = 1)\n",
        "print(x)\n",
        "\n",
        "x=torch.linspace(start=1,end=20, steps=4)\n",
        "print(x)\n"
      ],
      "execution_count": 27,
      "outputs": [
        {
          "output_type": "stream",
          "text": [
            "tensor([[0.0772, 0.4453, 0.1348],\n",
            "        [0.9761, 0.7593, 0.1860],\n",
            "        [0.4632, 0.3396, 0.6318]])\n",
            "tensor([[0.6870, 0.4426, 0.8267],\n",
            "        [0.3412, 0.5601, 0.7012],\n",
            "        [0.9803, 0.5565, 0.9932]])\n",
            "tensor([[0., 0., 0.],\n",
            "        [0., 0., 0.]])\n",
            "tensor([[1., 1.],\n",
            "        [1., 1.]])\n",
            "tensor([[1.],\n",
            "        [0.]])\n",
            "tensor([[1., 0., 0., 0., 0.],\n",
            "        [0., 1., 0., 0., 0.],\n",
            "        [0., 0., 1., 0., 0.],\n",
            "        [0., 0., 0., 1., 0.],\n",
            "        [0., 0., 0., 0., 1.]])\n",
            "tensor([0, 1, 2, 3, 4, 5, 6, 7, 8, 9])\n",
            "tensor([ 1.0000,  7.3333, 13.6667, 20.0000])\n"
          ],
          "name": "stdout"
        }
      ]
    },
    {
      "cell_type": "code",
      "metadata": {
        "colab": {
          "base_uri": "https://localhost:8080/"
        },
        "id": "9zRvKXEBVMtJ",
        "outputId": "0c241a04-4c1f-448c-e65c-2b771a83b41e"
      },
      "source": [
        "#Convert tensors between various datatypes\n",
        "my_tensor = torch.arange(4)\n",
        "print(my_tensor)\n",
        "\n",
        "print(my_tensor.bool())\n",
        "print(my_tensor.short())\n",
        "print(my_tensor.long())\n",
        "print(my_tensor.float())\n",
        "print(my_tensor.double())"
      ],
      "execution_count": 29,
      "outputs": [
        {
          "output_type": "stream",
          "text": [
            "tensor([0, 1, 2, 3])\n",
            "tensor([False,  True,  True,  True])\n",
            "tensor([0, 1, 2, 3], dtype=torch.int16)\n",
            "tensor([0, 1, 2, 3])\n",
            "tensor([0., 1., 2., 3.])\n",
            "tensor([0., 1., 2., 3.], dtype=torch.float64)\n"
          ],
          "name": "stdout"
        }
      ]
    },
    {
      "cell_type": "code",
      "metadata": {
        "colab": {
          "base_uri": "https://localhost:8080/"
        },
        "id": "WzeXHw8-aEfr",
        "outputId": "c7b48082-b7f4-4baa-df10-19c98271deff"
      },
      "source": [
        "#Conversion of arrays to tensors and vice versa\n",
        "import numpy as np\n",
        "x=np.array([0.2,0.5,0.8])\n",
        "print(x)\n",
        "tensor=torch.from_numpy(x)\n",
        "print(tensor)\n",
        "x_np = tensor.numpy()\n",
        "print(x_np)"
      ],
      "execution_count": 33,
      "outputs": [
        {
          "output_type": "stream",
          "text": [
            "[0.2 0.5 0.8]\n",
            "tensor([0.2000, 0.5000, 0.8000], dtype=torch.float64)\n",
            "[0.2 0.5 0.8]\n"
          ],
          "name": "stdout"
        }
      ]
    },
    {
      "cell_type": "code",
      "metadata": {
        "colab": {
          "base_uri": "https://localhost:8080/"
        },
        "id": "L9nv915Xam7S",
        "outputId": "5ae3c542-5a8a-4163-e687-01706977dcd0"
      },
      "source": [
        "#Tensor Math & Comarison Operations\n",
        "x= torch.tensor([1,2,3])\n",
        "y= torch.tensor([5,6,7])\n",
        "\n",
        "#Add\n",
        "z = x + y\n",
        "print(z)\n",
        "\n",
        "#Subtract\n",
        "z= y-x\n",
        "print(z)\n",
        "#Divide- litle clunky\n",
        "z= torch.divide(x,y)\n",
        "print(z)\n",
        "#Inplace operations += does inplace and = x=t does not do\n",
        "t=2\n",
        "t /=x\n",
        "print(t)\n",
        "#Exponentitation\n",
        "z=x**2\n",
        "print(z)\n",
        "#Simple comparison\n",
        "z=x>2\n",
        "print(x[x>2])\n",
        "\n",
        "\n",
        "#Matrix Multiplication\n",
        "m1= torch.rand((3,2))\n",
        "print(m1)\n",
        "m2= torch.rand((2,1))\n",
        "print(m2)\n",
        "z=torch.mm(m1,m2)\n",
        "print(z)\n",
        "print(z.shape)\n",
        "\n",
        "#Dot Product\n",
        "z= torch.dot(x,y)\n",
        "print(z)\n",
        "\n",
        "#batch Matrix multiplication\n",
        "batch=64\n",
        "n=10\n",
        "m=20\n",
        "p=30\n",
        "\n",
        "tensor1 = torch.rand((batch,n,m))\n",
        "tensor2 = torch.rand((batch,m,p))\n",
        "z= torch.bmm(tensor1, tensor2)\n",
        "print(z.shape)\n"
      ],
      "execution_count": 52,
      "outputs": [
        {
          "output_type": "stream",
          "text": [
            "tensor([ 6,  8, 10])\n",
            "tensor([4, 4, 4])\n",
            "tensor([0.2000, 0.3333, 0.4286])\n",
            "tensor([2.0000, 1.0000, 0.6667])\n",
            "tensor([1, 4, 9])\n",
            "tensor([3])\n",
            "tensor([[0.3664, 0.1163],\n",
            "        [0.8242, 0.3704],\n",
            "        [0.9662, 0.1739]])\n",
            "tensor([[0.4117],\n",
            "        [0.2113]])\n",
            "tensor([[0.1754],\n",
            "        [0.4176],\n",
            "        [0.4346]])\n",
            "torch.Size([3, 1])\n",
            "tensor(38)\n",
            "torch.Size([64, 10, 30])\n"
          ],
          "name": "stdout"
        }
      ]
    },
    {
      "cell_type": "code",
      "metadata": {
        "colab": {
          "base_uri": "https://localhost:8080/"
        },
        "id": "XhROakeVcElX",
        "outputId": "1cb58948-e172-4a36-c921-50fc54f4d9b1"
      },
      "source": [
        "#Broadcasting\n",
        "x1= torch.ones((2,2))\n",
        "print(x1)\n",
        "x2= torch.ones(1,2)\n",
        "print(x2)\n",
        "#Broadcasting\n",
        "z=x1+x2\n",
        "print(z)"
      ],
      "execution_count": 55,
      "outputs": [
        {
          "output_type": "stream",
          "text": [
            "tensor([[1., 1.],\n",
            "        [1., 1.]])\n",
            "tensor([[1., 1.]])\n",
            "tensor([[2., 2.],\n",
            "        [2., 2.]])\n"
          ],
          "name": "stdout"
        }
      ]
    },
    {
      "cell_type": "code",
      "metadata": {
        "colab": {
          "base_uri": "https://localhost:8080/"
        },
        "id": "hXz7U5pMgtV_",
        "outputId": "364d5e02-c03e-43e7-e9c7-c8f6d4f176ff"
      },
      "source": [
        "#Tensor Operations\n",
        "print(x)\n",
        "print(y)\n",
        "print(torch.sum(x,dim=0))\n",
        "\n",
        "val,_=torch.max(x, dim=0)\n",
        "print(val)\n",
        "z = torch.mean(x.float())\n",
        "print(z)\n",
        "\n",
        "z = torch.eq(x,y)\n",
        "print(z)\n",
        "\n",
        "sorted_y, indices =  torch.sort(y,descending=True)\n",
        "print(sorted_y)\n",
        "\n",
        "z=torch.clamp(y,min=5,max=6)\n",
        "print(z)\n",
        "\n",
        "z=torch.argmin(y)\n",
        "print(z)\n"
      ],
      "execution_count": 70,
      "outputs": [
        {
          "output_type": "stream",
          "text": [
            "tensor([1, 2, 3])\n",
            "tensor([5, 6, 7])\n",
            "tensor(6)\n",
            "tensor(3)\n",
            "tensor(2.)\n",
            "tensor([False, False, False])\n",
            "tensor([7, 6, 5])\n",
            "tensor([5, 6, 6])\n",
            "tensor(0)\n"
          ],
          "name": "stdout"
        }
      ]
    },
    {
      "cell_type": "code",
      "metadata": {
        "colab": {
          "base_uri": "https://localhost:8080/"
        },
        "id": "wy5rA1C2hdG9",
        "outputId": "709d7360-3124-4b3e-d2a0-706321fcbb75"
      },
      "source": [
        "#Tensor Indexing\n",
        "x = torch.arange(start=0,end=10,step=2)\n",
        "print(x)\n",
        "indices = [2,3,4]\n",
        "print(x[indices])\n",
        "\n",
        "batch_size = 10\n",
        "features = 25\n",
        "\n",
        "x = torch.rand((batch_size, features))\n",
        "print(x[0].shape)\n",
        "\n",
        "print(x[:,0].shape)\n",
        "print(x[2,0:10])\n",
        "\n",
        "x = torch.rand((3,5))\n",
        "print(x)\n",
        "rows = torch.tensor([1,0])\n",
        "cols = torch.tensor([4,0])\n",
        "print(x[rows,cols])\n",
        "\n",
        "x=torch.arange(10)\n",
        "print(x)\n",
        "print(x[(x<2) | (x>6)])\n",
        "print(x[x%2==0])\n",
        "\n",
        "z=torch.where(x>5,x,x**2)\n",
        "print(z)\n",
        "print(x)\n",
        "\n",
        "print(torch.tensor([0,0,1,2,2,3,4]).unique())\n",
        "print(torch.tensor([0,0,1,2,2,3,4]).numel())\n"
      ],
      "execution_count": 97,
      "outputs": [
        {
          "output_type": "stream",
          "text": [
            "tensor([0, 2, 4, 6, 8])\n",
            "tensor([4, 6, 8])\n",
            "torch.Size([25])\n",
            "torch.Size([10])\n",
            "tensor([0.2195, 0.7917, 0.2866, 0.2851, 0.7398, 0.1627, 0.0173, 0.1814, 0.5210,\n",
            "        0.7895])\n",
            "tensor([[0.5358, 0.0732, 0.5958, 0.1008, 0.6440],\n",
            "        [0.7237, 0.9427, 0.4739, 0.7056, 0.0406],\n",
            "        [0.9722, 0.3064, 0.9417, 0.9685, 0.1319]])\n",
            "tensor([0.0406, 0.5358])\n",
            "tensor([0, 1, 2, 3, 4, 5, 6, 7, 8, 9])\n",
            "tensor([0, 1, 7, 8, 9])\n",
            "tensor([0, 2, 4, 6, 8])\n",
            "tensor([ 0,  1,  4,  9, 16, 25,  6,  7,  8,  9])\n",
            "tensor([0, 1, 2, 3, 4, 5, 6, 7, 8, 9])\n",
            "tensor([0, 1, 2, 3, 4])\n",
            "7\n"
          ],
          "name": "stdout"
        }
      ]
    },
    {
      "cell_type": "code",
      "metadata": {
        "colab": {
          "base_uri": "https://localhost:8080/"
        },
        "id": "NYP9el-ak2wk",
        "outputId": "69ac572b-5f8e-42ee-ea9f-c08cc790e670"
      },
      "source": [
        "#tensor reshaping\n",
        "x = torch.arange(9) \n",
        "\n",
        "#3*3 matrix\n",
        "y= x.reshape(3,3)\n",
        "print(y)\n",
        "\n",
        "#Concatenate matrices along any axis\n",
        "\n",
        "x1= torch.rand((1,2))\n",
        "print(x1)\n",
        "x2= torch.rand((1,2))\n",
        "print(x2)\n",
        "z= torch.cat((x1,x2), dim=0)\n",
        "print(z)\n",
        "print(z.shape)\n",
        "\n",
        "#flattening the matrix\n",
        "z= x1.view(-1)\n",
        "print(z.shape)\n",
        "\n",
        "batch=65\n",
        "x = torch.rand((batch,3,4,5))\n",
        "z=x.view(batch,-1)\n",
        "print(z.shape)\n",
        "\n",
        "z= x.permute(0,2,1,3)\n",
        "print(z.shape)\n",
        "\n",
        "#Adding axes to tensor\n",
        "\n",
        "x= torch.arange(10)\n",
        "print(x.unsqueeze(0).shape)\n",
        "print(x.unsqueeze(1).shape)\n",
        "\n",
        "z=torch.arange(10).unsqueeze(0).unsqueeze(1)\n",
        "print(z.shape)"
      ],
      "execution_count": 110,
      "outputs": [
        {
          "output_type": "stream",
          "text": [
            "tensor([[0, 1, 2],\n",
            "        [3, 4, 5],\n",
            "        [6, 7, 8]])\n",
            "tensor([[0.3384, 0.6072]])\n",
            "tensor([[0.8600, 0.4918]])\n",
            "tensor([[0.3384, 0.6072],\n",
            "        [0.8600, 0.4918]])\n",
            "torch.Size([2, 2])\n",
            "torch.Size([2])\n",
            "torch.Size([65, 60])\n",
            "torch.Size([65, 4, 3, 5])\n",
            "torch.Size([1, 10])\n",
            "torch.Size([10, 1])\n",
            "torch.Size([1, 1, 10])\n"
          ],
          "name": "stdout"
        }
      ]
    },
    {
      "cell_type": "code",
      "metadata": {
        "id": "HHVeXzvdtDI0"
      },
      "source": [
        " "
      ],
      "execution_count": null,
      "outputs": []
    }
  ]
}